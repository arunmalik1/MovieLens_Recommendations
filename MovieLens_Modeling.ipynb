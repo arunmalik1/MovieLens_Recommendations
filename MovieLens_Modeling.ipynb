{
 "cells": [
  {
   "cell_type": "markdown",
   "metadata": {},
   "source": [
    "# Project Description\n"
   ]
  },
  {
   "cell_type": "code",
   "execution_count": 2,
   "metadata": {},
   "outputs": [],
   "source": [
    "#The aim of this project is to create a recomendation model for the movielens dataset. The dataset is provided by\n",
    "#GroupLens research lab at the University of Minnesota."
   ]
  },
  {
   "cell_type": "markdown",
   "metadata": {},
   "source": [
    "## Import packages"
   ]
  },
  {
   "cell_type": "code",
   "execution_count": 18,
   "metadata": {},
   "outputs": [],
   "source": [
    "#import basic packages \n",
    "import  pandas as pd\n",
    "import numpy as np\n",
    "import pickle\n",
    "\n",
    "#import graphic tools\n",
    "import matplotlib.pyplot as plt\n",
    "import seaborn as sns\n",
    "\n",
    "#import surprise \n",
    "from surprise import accuracy\n",
    "from surprise import Reader, Dataset\n",
    "from surprise import CoClustering\n",
    "from surprise.prediction_algorithms import SVD\n",
    "from surprise.prediction_algorithms import knns\n",
    "from surprise.model_selection import GridSearchCV\n",
    "from surprise.model_selection import train_test_split, cross_validate\n",
    "from surprise.prediction_algorithms import KNNWithMeans, KNNBasic, KNNBaseline"
   ]
  },
  {
   "cell_type": "markdown",
   "metadata": {},
   "source": [
    "# Get the Data"
   ]
  },
  {
   "cell_type": "code",
   "execution_count": 19,
   "metadata": {},
   "outputs": [],
   "source": [
    "#import the data as panda dataframes\n",
    "links = pd.read_csv('/Users/arun/Desktop/Flatiron/Projects/Phase4_Project/MovieLens_Recommendations/Data/links.csv')\n",
    "ratings = pd.read_csv('/Users/arun/Desktop/Flatiron/Projects/Phase4_Project/MovieLens_Recommendations/Data/ratings.csv')\n",
    "movies = pd.read_csv('/Users/arun/Desktop/Flatiron/Projects/Phase4_Project/MovieLens_Recommendations/Data/movies.csv')\n",
    "tags = pd.read_csv('/Users/arun/Desktop/Flatiron/Projects/Phase4_Project/MovieLens_Recommendations/Data/tags.csv')"
   ]
  },
  {
   "cell_type": "markdown",
   "metadata": {},
   "source": [
    "# EDA"
   ]
  },
  {
   "cell_type": "code",
   "execution_count": 20,
   "metadata": {},
   "outputs": [
    {
     "name": "stdout",
     "output_type": "stream",
     "text": [
      "<class 'pandas.core.frame.DataFrame'>\n",
      "RangeIndex: 9742 entries, 0 to 9741\n",
      "Data columns (total 3 columns):\n",
      " #   Column   Non-Null Count  Dtype  \n",
      "---  ------   --------------  -----  \n",
      " 0   movieId  9742 non-null   int64  \n",
      " 1   imdbId   9742 non-null   int64  \n",
      " 2   tmdbId   9734 non-null   float64\n",
      "dtypes: float64(1), int64(2)\n",
      "memory usage: 228.5 KB\n"
     ]
    }
   ],
   "source": [
    "#Links are codes for IMDB and TMDB sites. This wont be helpful unless I have to go to IMDB or TMDB for more data \n",
    "#on these movies.\n",
    "links.info()"
   ]
  },
  {
   "cell_type": "code",
   "execution_count": 21,
   "metadata": {},
   "outputs": [
    {
     "name": "stdout",
     "output_type": "stream",
     "text": [
      "<class 'pandas.core.frame.DataFrame'>\n",
      "RangeIndex: 100836 entries, 0 to 100835\n",
      "Data columns (total 4 columns):\n",
      " #   Column     Non-Null Count   Dtype  \n",
      "---  ------     --------------   -----  \n",
      " 0   userId     100836 non-null  int64  \n",
      " 1   movieId    100836 non-null  int64  \n",
      " 2   rating     100836 non-null  float64\n",
      " 3   timestamp  100836 non-null  int64  \n",
      "dtypes: float64(1), int64(3)\n",
      "memory usage: 3.1 MB\n"
     ]
    }
   ],
   "source": [
    "#getting some basic information for ratings. Ratings does not include the name of the movie.\n",
    "ratings.info()"
   ]
  },
  {
   "cell_type": "code",
   "execution_count": 22,
   "metadata": {},
   "outputs": [
    {
     "name": "stdout",
     "output_type": "stream",
     "text": [
      "Number of null values for ratings: \n",
      "userId       0\n",
      "movieId      0\n",
      "rating       0\n",
      "timestamp    0\n",
      "dtype: int64\n"
     ]
    }
   ],
   "source": [
    "#looking for null values\n",
    "print(f\"Number of null values for ratings: \\n{ratings.isna().sum()}\")"
   ]
  },
  {
   "cell_type": "code",
   "execution_count": 23,
   "metadata": {},
   "outputs": [
    {
     "data": {
      "text/html": [
       "<div>\n",
       "<style scoped>\n",
       "    .dataframe tbody tr th:only-of-type {\n",
       "        vertical-align: middle;\n",
       "    }\n",
       "\n",
       "    .dataframe tbody tr th {\n",
       "        vertical-align: top;\n",
       "    }\n",
       "\n",
       "    .dataframe thead th {\n",
       "        text-align: right;\n",
       "    }\n",
       "</style>\n",
       "<table border=\"1\" class=\"dataframe\">\n",
       "  <thead>\n",
       "    <tr style=\"text-align: right;\">\n",
       "      <th></th>\n",
       "      <th>userId</th>\n",
       "      <th>movieId</th>\n",
       "      <th>rating</th>\n",
       "      <th>timestamp</th>\n",
       "    </tr>\n",
       "  </thead>\n",
       "  <tbody>\n",
       "    <tr>\n",
       "      <th>0</th>\n",
       "      <td>1</td>\n",
       "      <td>1</td>\n",
       "      <td>4.0</td>\n",
       "      <td>964982703</td>\n",
       "    </tr>\n",
       "    <tr>\n",
       "      <th>1</th>\n",
       "      <td>1</td>\n",
       "      <td>3</td>\n",
       "      <td>4.0</td>\n",
       "      <td>964981247</td>\n",
       "    </tr>\n",
       "    <tr>\n",
       "      <th>2</th>\n",
       "      <td>1</td>\n",
       "      <td>6</td>\n",
       "      <td>4.0</td>\n",
       "      <td>964982224</td>\n",
       "    </tr>\n",
       "    <tr>\n",
       "      <th>3</th>\n",
       "      <td>1</td>\n",
       "      <td>47</td>\n",
       "      <td>5.0</td>\n",
       "      <td>964983815</td>\n",
       "    </tr>\n",
       "    <tr>\n",
       "      <th>4</th>\n",
       "      <td>1</td>\n",
       "      <td>50</td>\n",
       "      <td>5.0</td>\n",
       "      <td>964982931</td>\n",
       "    </tr>\n",
       "  </tbody>\n",
       "</table>\n",
       "</div>"
      ],
      "text/plain": [
       "   userId  movieId  rating  timestamp\n",
       "0       1        1     4.0  964982703\n",
       "1       1        3     4.0  964981247\n",
       "2       1        6     4.0  964982224\n",
       "3       1       47     5.0  964983815\n",
       "4       1       50     5.0  964982931"
      ]
     },
     "execution_count": 23,
     "metadata": {},
     "output_type": "execute_result"
    }
   ],
   "source": [
    "#timestamp will need to be removed or changed to datetime. We can see that users rated multiple movies.\n",
    "ratings.head()"
   ]
  },
  {
   "cell_type": "code",
   "execution_count": 24,
   "metadata": {},
   "outputs": [],
   "source": [
    "#going to drop timestamp since I don't need it.\n",
    "ratings.drop('timestamp', axis = 1, inplace = True)"
   ]
  },
  {
   "cell_type": "code",
   "execution_count": 25,
   "metadata": {},
   "outputs": [
    {
     "name": "stdout",
     "output_type": "stream",
     "text": [
      "Number of users who rated movies: 610\n"
     ]
    }
   ],
   "source": [
    "#Start with the UserId column.\n",
    "#610 people are responsible for rating the movies in this dataset.\n",
    "print(f\"Number of users who rated movies: {len(ratings['userId'].unique())}\")"
   ]
  },
  {
   "cell_type": "code",
   "execution_count": 26,
   "metadata": {},
   "outputs": [
    {
     "name": "stdout",
     "output_type": "stream",
     "text": [
      "userId\n",
      "414    2698\n",
      "599    2478\n",
      "474    2108\n",
      "448    1864\n",
      "274    1346\n",
      "       ... \n",
      "442      20\n",
      "569      20\n",
      "320      20\n",
      "576      20\n",
      "53       20\n",
      "Name: rating, Length: 610, dtype: int64\n"
     ]
    }
   ],
   "source": [
    "#grouping users and rating \n",
    "users = ratings.groupby(['userId'])['rating'].count().sort_values(ascending=False)\n",
    "\n",
    "#Majority of ratings coming from a few users. Will need to be reguarlized to be useful for the model.\n",
    "print(users)"
   ]
  },
  {
   "cell_type": "code",
   "execution_count": 27,
   "metadata": {},
   "outputs": [
    {
     "data": {
      "image/png": "[encoded data removed]",
      "text/plain": [
       "<Figure size 432x432 with 1 Axes>"
      ]
     },
     "metadata": {
      "needs_background": "light"
     },
     "output_type": "display_data"
    }
   ],
   "source": [
    "#The majority of movies rated by less then 25 people\n",
    "plt.subplots(figsize = (6, 6))\n",
    "plt.hist(users, color = 'lightblue')\n",
    "plt.title('Number of users who rated movies')\n",
    "plt.xlabel('Number of Ratings')\n",
    "plt.ylabel('Number of Users')\n",
    "plt.show();"
   ]
  },
  {
   "cell_type": "code",
   "execution_count": 28,
   "metadata": {},
   "outputs": [
    {
     "name": "stdout",
     "output_type": "stream",
     "text": [
      "Number of movies: 9724\n",
      "The average rating for movies in this dataset is: 3.501556983616962\n",
      "The ratings are split into: 10 categories\n",
      "4.0    0.265957\n",
      "3.0    0.198808\n",
      "5.0    0.131015\n",
      "3.5    0.130271\n",
      "4.5    0.084801\n",
      "2.0    0.074884\n",
      "2.5    0.055040\n",
      "1.0    0.027877\n",
      "1.5    0.017762\n",
      "0.5    0.013586\n",
      "Name: rating, dtype: float64\n"
     ]
    }
   ],
   "source": [
    "#There are over 10K ratings but only 9724 unique movie values. \n",
    "print(f\"Number of movies: {len(ratings['movieId'].unique())}\")\n",
    "\n",
    "#taking a look at the average rating in the dataset.\n",
    "print(f\"The average rating for movies in this dataset is: {ratings['rating'].mean()}\")\n",
    "\n",
    "#how many bins are the ratings split into\n",
    "print(f\"The ratings are split into: {len(ratings['rating'].unique())} categories\")\n",
    "\n",
    "#There are not many movies will lower scores. Perhaps people tend not to rate movies they do not like.\n",
    "print(ratings['rating'].value_counts(normalize=True))"
   ]
  },
  {
   "cell_type": "code",
   "execution_count": 29,
   "metadata": {},
   "outputs": [
    {
     "data": {
      "image/png": "[encoded data removed]",
      "text/plain": [
       "<Figure size 432x432 with 1 Axes>"
      ]
     },
     "metadata": {
      "needs_background": "light"
     },
     "output_type": "display_data"
    }
   ],
   "source": [
    "#graph a distribition of ratings using a histogram. 10 bins because the ratings are in 10 categories.\n",
    "#The distribution of ratings is highly skewed, this could be a problem when training the model.\n",
    "\n",
    "plt.subplots(figsize = (6, 6))\n",
    "plt.hist(ratings['rating'], bins = 10, color = 'lightblue')\n",
    "plt.xticks([0.5, 1, 1.5, 2, 2.5, 3, 3.5, 4, 4.5, 5])\n",
    "plt.title('Distribution of Ratings')\n",
    "plt.xlabel('Rating')\n",
    "plt.ylabel('Number of Ratings')\n",
    "plt.show();"
   ]
  },
  {
   "cell_type": "code",
   "execution_count": 30,
   "metadata": {},
   "outputs": [
    {
     "data": {
      "image/png": "[encoded data removed]",
      "text/plain": [
       "<Figure size 432x432 with 1 Axes>"
      ]
     },
     "metadata": {
      "needs_background": "light"
     },
     "output_type": "display_data"
    }
   ],
   "source": [
    "#taking a look at how many ratings a movie recieved\n",
    "num_ratings = ratings.groupby(['movieId'])['rating'].count()\n",
    "\n",
    "#plotting number of ratings per movie. The majority of movies recieved less then 25 ratings.\n",
    "plt.subplots(figsize = (6, 6))\n",
    "plt.hist(num_ratings, color = 'lightblue')\n",
    "plt.title('Number of ratings per movie')\n",
    "plt.xlabel('Number of Ratings')\n",
    "plt.ylabel('Number of Movies')\n",
    "plt.show();"
   ]
  },
  {
   "cell_type": "code",
   "execution_count": 31,
   "metadata": {},
   "outputs": [
    {
     "name": "stdout",
     "output_type": "stream",
     "text": [
      "<class 'pandas.core.frame.DataFrame'>\n",
      "RangeIndex: 9742 entries, 0 to 9741\n",
      "Data columns (total 3 columns):\n",
      " #   Column   Non-Null Count  Dtype \n",
      "---  ------   --------------  ----- \n",
      " 0   movieId  9742 non-null   int64 \n",
      " 1   title    9742 non-null   object\n",
      " 2   genres   9742 non-null   object\n",
      "dtypes: int64(1), object(2)\n",
      "memory usage: 228.5+ KB\n"
     ]
    }
   ],
   "source": [
    "#Taking a look at the movies data\n",
    "movies.info()"
   ]
  },
  {
   "cell_type": "code",
   "execution_count": 32,
   "metadata": {},
   "outputs": [
    {
     "data": {
      "text/html": [
       "<div>\n",
       "<style scoped>\n",
       "    .dataframe tbody tr th:only-of-type {\n",
       "        vertical-align: middle;\n",
       "    }\n",
       "\n",
       "    .dataframe tbody tr th {\n",
       "        vertical-align: top;\n",
       "    }\n",
       "\n",
       "    .dataframe thead th {\n",
       "        text-align: right;\n",
       "    }\n",
       "</style>\n",
       "<table border=\"1\" class=\"dataframe\">\n",
       "  <thead>\n",
       "    <tr style=\"text-align: right;\">\n",
       "      <th></th>\n",
       "      <th>movieId</th>\n",
       "      <th>title</th>\n",
       "      <th>genres</th>\n",
       "    </tr>\n",
       "  </thead>\n",
       "  <tbody>\n",
       "    <tr>\n",
       "      <th>0</th>\n",
       "      <td>1</td>\n",
       "      <td>Toy Story (1995)</td>\n",
       "      <td>Adventure|Animation|Children|Comedy|Fantasy</td>\n",
       "    </tr>\n",
       "    <tr>\n",
       "      <th>1</th>\n",
       "      <td>2</td>\n",
       "      <td>Jumanji (1995)</td>\n",
       "      <td>Adventure|Children|Fantasy</td>\n",
       "    </tr>\n",
       "    <tr>\n",
       "      <th>2</th>\n",
       "      <td>3</td>\n",
       "      <td>Grumpier Old Men (1995)</td>\n",
       "      <td>Comedy|Romance</td>\n",
       "    </tr>\n",
       "    <tr>\n",
       "      <th>3</th>\n",
       "      <td>4</td>\n",
       "      <td>Waiting to Exhale (1995)</td>\n",
       "      <td>Comedy|Drama|Romance</td>\n",
       "    </tr>\n",
       "    <tr>\n",
       "      <th>4</th>\n",
       "      <td>5</td>\n",
       "      <td>Father of the Bride Part II (1995)</td>\n",
       "      <td>Comedy</td>\n",
       "    </tr>\n",
       "  </tbody>\n",
       "</table>\n",
       "</div>"
      ],
      "text/plain": [
       "   movieId                               title  \\\n",
       "0        1                    Toy Story (1995)   \n",
       "1        2                      Jumanji (1995)   \n",
       "2        3             Grumpier Old Men (1995)   \n",
       "3        4            Waiting to Exhale (1995)   \n",
       "4        5  Father of the Bride Part II (1995)   \n",
       "\n",
       "                                        genres  \n",
       "0  Adventure|Animation|Children|Comedy|Fantasy  \n",
       "1                   Adventure|Children|Fantasy  \n",
       "2                               Comedy|Romance  \n",
       "3                         Comedy|Drama|Romance  \n",
       "4                                       Comedy  "
      ]
     },
     "execution_count": 32,
     "metadata": {},
     "output_type": "execute_result"
    }
   ],
   "source": [
    "#Movie title inludes the year, which should ideally be its own category. \n",
    "#Also, movies are in multiple genres, could skew the genre count. \n",
    "movies.head()"
   ]
  },
  {
   "cell_type": "code",
   "execution_count": 33,
   "metadata": {},
   "outputs": [],
   "source": [
    "#extract the year from title and set it as its own column\n",
    "movies['release_year'] = movies['title'].apply(lambda x: x.strip()[-5:-1])"
   ]
  },
  {
   "cell_type": "code",
   "execution_count": 34,
   "metadata": {},
   "outputs": [],
   "source": [
    "#Turning release_year to a data time format\n",
    "movies['release_year'] = pd.to_datetime(movies['release_year'], errors='coerce')"
   ]
  },
  {
   "cell_type": "code",
   "execution_count": 35,
   "metadata": {},
   "outputs": [
    {
     "name": "stdout",
     "output_type": "stream",
     "text": [
      "movieId          0\n",
      "title            0\n",
      "genres           0\n",
      "release_year    12\n",
      "dtype: int64\n",
      "Number of unique movie titles:  9737\n",
      "Number of unique movie Ids:  9742\n"
     ]
    }
   ],
   "source": [
    "#look for nulls\n",
    "print(movies.isna().sum())\n",
    "\n",
    "#Unique movie titles and Ids should match.\n",
    "print(f\"Number of unique movie titles:  {len(movies.title.unique())}\")\n",
    "\n",
    "#looking for unique movie Ids \n",
    "print(f\"Number of unique movie Ids:  {len(movies.movieId.unique())}\")\n"
   ]
  },
  {
   "cell_type": "code",
   "execution_count": 36,
   "metadata": {},
   "outputs": [
    {
     "name": "stdout",
     "output_type": "stream",
     "text": [
      "      movieId                                   title  \\\n",
      "650       838                             Emma (1996)   \n",
      "2141     2851                         Saturn 3 (1980)   \n",
      "4169     6003  Confessions of a Dangerous Mind (2002)   \n",
      "5601    26958                             Emma (1996)   \n",
      "5854    32600                             Eros (2004)   \n",
      "5931    34048                War of the Worlds (2005)   \n",
      "6932    64997                War of the Worlds (2005)   \n",
      "9106   144606  Confessions of a Dangerous Mind (2002)   \n",
      "9135   147002                             Eros (2004)   \n",
      "9468   168358                         Saturn 3 (1980)   \n",
      "\n",
      "                                   genres release_year  \n",
      "650                  Comedy|Drama|Romance   1996-01-01  \n",
      "2141            Adventure|Sci-Fi|Thriller   1980-01-01  \n",
      "4169          Comedy|Crime|Drama|Thriller   2002-01-01  \n",
      "5601                              Romance   1996-01-01  \n",
      "5854                                Drama   2004-01-01  \n",
      "5931     Action|Adventure|Sci-Fi|Thriller   2005-01-01  \n",
      "6932                        Action|Sci-Fi   2005-01-01  \n",
      "9106  Comedy|Crime|Drama|Romance|Thriller   2002-01-01  \n",
      "9135                        Drama|Romance   2004-01-01  \n",
      "9468                      Sci-Fi|Thriller   1980-01-01  \n"
     ]
    }
   ],
   "source": [
    "#There are movies with multiple Ids\n",
    "duplicates = movies[movies['title'].duplicated(keep = False)]\n",
    "print(duplicates)"
   ]
  },
  {
   "cell_type": "code",
   "execution_count": 37,
   "metadata": {},
   "outputs": [
    {
     "name": "stdout",
     "output_type": "stream",
     "text": [
      "Empty DataFrame\n",
      "Columns: [movieId, title, genres, release_year]\n",
      "Index: []\n"
     ]
    }
   ],
   "source": [
    "#Dropping rows that have less information because they are redundant \n",
    "drop_rows = [4169, 5601, 5854, 6932, 9468]\n",
    "movies.drop(drop_rows, axis = 0, inplace = True)\n",
    "\n",
    "#checking again for duplicates\n",
    "duplicates = movies[movies['title'].duplicated(keep = False)]\n",
    "print(duplicates)\n"
   ]
  },
  {
   "cell_type": "code",
   "execution_count": 38,
   "metadata": {},
   "outputs": [
    {
     "name": "stdout",
     "output_type": "stream",
     "text": [
      "Unique number of movie genres: 951\n"
     ]
    },
    {
     "data": {
      "text/plain": [
       "Drama                                                  1052\n",
       "Comedy                                                  946\n",
       "Comedy|Drama                                            435\n",
       "Comedy|Romance                                          363\n",
       "Drama|Romance                                           349\n",
       "                                                       ... \n",
       "Action|Crime|Horror|Mystery|Thriller                      1\n",
       "Adventure|Animation|Children|Comedy|Musical|Romance       1\n",
       "Action|Adventure|Animation|Comedy|Crime|Mystery           1\n",
       "Children|Comedy|Fantasy|Sci-Fi                            1\n",
       "Action|Animation|Comedy|Fantasy                           1\n",
       "Name: genres, Length: 951, dtype: int64"
      ]
     },
     "execution_count": 38,
     "metadata": {},
     "output_type": "execute_result"
    }
   ],
   "source": [
    "#There are 951 unique genre combinations. \n",
    "print(f\"Unique number of movie genres: {len(movies['genres'].unique())}\")\n",
    "\n",
    "#There are genre combinations with just one movie listed in them. \n",
    "movies['genres'].value_counts()"
   ]
  },
  {
   "cell_type": "code",
   "execution_count": 46,
   "metadata": {},
   "outputs": [
    {
     "data": {
      "image/png": "[encoded data removed]",
      "text/plain": [
       "<Figure size 432x432 with 1 Axes>"
      ]
     },
     "metadata": {
      "needs_background": "light"
     },
     "output_type": "display_data"
    }
   ],
   "source": [
    "#want to take a look at the top 10 genres by value counts \n",
    "top_genres = pd.DataFrame(movies.groupby('genres')['title'].count())\n",
    "\n",
    "#sorting to get the highest values on top\n",
    "top_genres = top_genres.sort_values('title', ascending=False)[:10]\n",
    "\n",
    "#reseting the index\n",
    "top_genres.reset_index(inplace=True)\n",
    "\n",
    "# we can see the top 5 genre with ratings are a Drama, Comedy and some combination of the 2.\n",
    "plt.figure(figsize=(6, 6))\n",
    "plt.xticks(rotation=90)\n",
    "\n",
    "sns.barplot(data = top_genres, x = 'title', y = 'genres', orient='h')\n",
    "plt.title('Genre Popularity')\n",
    "plt.xlabel('Genre Counts')\n",
    "plt.ylabel('Genres')\n",
    "plt.show();\n"
   ]
  },
  {
   "cell_type": "code",
   "execution_count": 48,
   "metadata": {},
   "outputs": [
    {
     "name": "stdout",
     "output_type": "stream",
     "text": [
      "<class 'pandas.core.frame.DataFrame'>\n",
      "RangeIndex: 3683 entries, 0 to 3682\n",
      "Data columns (total 4 columns):\n",
      " #   Column     Non-Null Count  Dtype \n",
      "---  ------     --------------  ----- \n",
      " 0   userId     3683 non-null   int64 \n",
      " 1   movieId    3683 non-null   int64 \n",
      " 2   tag        3683 non-null   object\n",
      " 3   timestamp  3683 non-null   int64 \n",
      "dtypes: int64(3), object(1)\n",
      "memory usage: 115.2+ KB\n"
     ]
    }
   ],
   "source": [
    "#Now to look at tags\n",
    "tags.info()"
   ]
  },
  {
   "cell_type": "code",
   "execution_count": 49,
   "metadata": {},
   "outputs": [],
   "source": [
    "#going to drop timestamp since I don't need it.\n",
    "tags.drop('timestamp', axis = 1, inplace = True)"
   ]
  },
  {
   "cell_type": "code",
   "execution_count": 50,
   "metadata": {},
   "outputs": [
    {
     "name": "stdout",
     "output_type": "stream",
     "text": [
      "Number of unique tags: 1589\n",
      "Number of movies with tags: 1572\n",
      "Number of users who provided tags: 58\n"
     ]
    }
   ],
   "source": [
    "#number of unique tags\n",
    "print(f\"Number of unique tags: {len(tags['tag'].unique())}\")\n",
    "\n",
    "#number of movies with tags\n",
    "print(f\"Number of movies with tags: {len(tags['movieId'].unique())}\")\n",
    "\n",
    "#lets look at how many people provided tags\n",
    "print(f\"Number of users who provided tags: {len(tags['userId'].unique())}\")"
   ]
  },
  {
   "cell_type": "code",
   "execution_count": 51,
   "metadata": {},
   "outputs": [
    {
     "data": {
      "text/plain": [
       "in netflix queue     131\n",
       "atmospheric           41\n",
       "funny                 24\n",
       "superhero             24\n",
       "thought-provoking     24\n",
       "                    ... \n",
       "ichabod crane          1\n",
       "scifi                  1\n",
       "dust bowl              1\n",
       "new society            1\n",
       "immigration            1\n",
       "Name: tag, Length: 1475, dtype: int64"
      ]
     },
     "execution_count": 51,
     "metadata": {},
     "output_type": "execute_result"
    }
   ],
   "source": [
    "#there are over 3000 movies in this dataframe but only 1589 unique tags, so we should have some repeats.\n",
    "#Let's see what are the most populat tags.\n",
    "\n",
    "#tags have upper and lower case. Better to make them all lower first \n",
    "tags['tag'] = tags['tag'].str.lower()\n",
    "\n",
    "tags['tag'].value_counts()"
   ]
  },
  {
   "cell_type": "code",
   "execution_count": 52,
   "metadata": {},
   "outputs": [
    {
     "name": "stdout",
     "output_type": "stream",
     "text": [
      "in netflix queue, 131\n",
      "atmospheric, 41\n",
      "funny, 24\n",
      "superhero, 24\n",
      "surreal, 24\n",
      "thought-provoking, 24\n",
      "sci-fi, 23\n",
      "disney, 23\n",
      "quirky, 22\n",
      "religion, 22\n",
      "dark comedy, 21\n",
      "suspense, 21\n",
      "psychology, 21\n",
      "twist ending, 20\n",
      "visually appealing, 20\n",
      "comedy, 19\n"
     ]
    }
   ],
   "source": [
    "#will have to write a loop to count tags and get their names\n",
    "count_tags = {}\n",
    "for tag in tags['tag']:\n",
    "    count_tags[tag] = count_tags.get(tag, 0) + 1\n",
    "\n",
    "#sort the dictionary, just taking the top 16 values.\n",
    "sorted_tag = dict(sorted(count_tags.items(), key=lambda x:x[1], reverse = True)[:16])\n",
    "\n",
    "#get the top 16 tags and their counts\n",
    "for x in list(sorted_tag)[0:16]:\n",
    "    print (\"{}, {}\".format(x,  sorted_tag[x]))"
   ]
  },
  {
   "cell_type": "code",
   "execution_count": 53,
   "metadata": {},
   "outputs": [],
   "source": [
    "#removing \"in netflix queue\"\n",
    "del sorted_tag['in netflix queue']"
   ]
  },
  {
   "cell_type": "code",
   "execution_count": 57,
   "metadata": {},
   "outputs": [
    {
     "data": {
      "image/png": "[encoded data removed]",
      "text/plain": [
       "<Figure size 576x432 with 1 Axes>"
      ]
     },
     "metadata": {
      "needs_background": "light"
     },
     "output_type": "display_data"
    }
   ],
   "source": [
    "#plot the key and items of the dictionary. shows us the most popular tags\n",
    "names = list(sorted_tag.keys())\n",
    "values = list(sorted_tag.values())\n",
    "\n",
    "plt.subplots(figsize = (8, 6))\n",
    "plt.bar(range(len(sorted_tag)), values, tick_label=names)\n",
    "plt.xticks(rotation=90)\n",
    "plt.xlabel('Tags')\n",
    "plt.ylabel('Tag Count')\n",
    "plt.title('Tag 15 Tags')\n",
    "plt.show()"
   ]
  },
  {
   "cell_type": "code",
   "execution_count": 55,
   "metadata": {},
   "outputs": [
    {
     "name": "stdout",
     "output_type": "stream",
     "text": [
      "(100834, 6)\n"
     ]
    }
   ],
   "source": [
    "#need to merge movies and ratings for the next EDA step\n",
    "movies_ratings = pd.merge(movies,ratings, on = 'movieId', how = 'left')\n",
    "\n",
    "print(movies_ratings.shape)"
   ]
  },
  {
   "cell_type": "code",
   "execution_count": 43,
   "metadata": {},
   "outputs": [],
   "source": [
    "#The 3 datasets have been joined below, this is EDA for the relationship between ratings and years.\n",
    "#I want to see the average number of ratings per year.\n",
    "\n",
    "avg_rating = pd.DataFrame(movies_ratings.groupby('release_year')['rating'].mean())"
   ]
  },
  {
   "cell_type": "code",
   "execution_count": 44,
   "metadata": {},
   "outputs": [
    {
     "name": "stdout",
     "output_type": "stream",
     "text": [
      "3.335292812777285\n"
     ]
    }
   ],
   "source": [
    "#reset the index so release year is its own column and just look at the last 50 entries.\n",
    "avg_rating.reset_index(inplace=True)\n",
    "\n",
    "avg_rating = avg_rating[50:]\n",
    "\n",
    "#get the lowest value in ratings, this will help reduce noise for plotting.\n",
    "print(avg_rating['rating'].min())"
   ]
  },
  {
   "cell_type": "code",
   "execution_count": 45,
   "metadata": {},
   "outputs": [],
   "source": [
    "avg_rating['year'] = avg_rating['release_year'].dt.strftime('%Y')"
   ]
  },
  {
   "cell_type": "code",
   "execution_count": 46,
   "metadata": {},
   "outputs": [
    {
     "data": {
      "image/png": "[encoded data removed]",
      "text/plain": [
       "<Figure size 864x432 with 1 Axes>"
      ]
     },
     "metadata": {
      "needs_background": "light"
     },
     "output_type": "display_data"
    }
   ],
   "source": [
    "#there is a lot of data for release year, maybe just look at the movies for the last 50 years.\n",
    "#since the smallest value in ratings is 3.33, going to start Y axis at 3.2 to reduce noise.\n",
    "#Looks there is a downward trend in users rating movies.\n",
    "\n",
    "fig, ax = plt.subplots(figsize=(12, 6))\n",
    "sns.barplot(data = avg_rating, x = 'year', y = 'rating', color = 'lightblue')\n",
    "plt.ylim(3.2)\n",
    "plt.title('Average number of Ratings by Year')\n",
    "ax.set_ylabel('Rating')\n",
    "ax.set_xlabel('Release Year')\n",
    "plt.xticks(rotation=90)\n",
    "plt.show()"
   ]
  },
  {
   "cell_type": "markdown",
   "metadata": {},
   "source": [
    "# Join the Data"
   ]
  },
  {
   "cell_type": "code",
   "execution_count": 47,
   "metadata": {},
   "outputs": [
    {
     "name": "stdout",
     "output_type": "stream",
     "text": [
      " The shape of movies is: (9737, 4)\n",
      " The shape of ratings is: (100836, 3)\n",
      " The shape of tags is: (3683, 3)\n"
     ]
    }
   ],
   "source": [
    "#Look at the shape of all 3 datasets\n",
    "\n",
    "print(f\" The shape of movies is: {movies.shape}\")\n",
    "print(f\" The shape of ratings is: {ratings.shape}\")\n",
    "print(f\" The shape of tags is: {tags.shape}\")"
   ]
  },
  {
   "cell_type": "code",
   "execution_count": 48,
   "metadata": {},
   "outputs": [],
   "source": [
    "#All 3 datasets have movieId column, going to set that as the index.\n",
    "\n",
    "movies.set_index('movieId', drop=True, inplace=True)\n",
    "ratings.set_index('movieId', drop=True, inplace=True)\n",
    "tags.set_index('movieId', drop=True, inplace=True)"
   ]
  },
  {
   "cell_type": "code",
   "execution_count": 49,
   "metadata": {},
   "outputs": [
    {
     "name": "stdout",
     "output_type": "stream",
     "text": [
      "(100834, 5)\n"
     ]
    }
   ],
   "source": [
    "#start by merging the movies and ratings datasets\n",
    "movies_ratings = pd.merge(movies,ratings, on = 'movieId', how = 'left')\n",
    "\n",
    "print(movies_ratings.shape)"
   ]
  },
  {
   "cell_type": "code",
   "execution_count": 50,
   "metadata": {},
   "outputs": [
    {
     "data": {
      "text/plain": [
       "5"
      ]
     },
     "execution_count": 50,
     "metadata": {},
     "output_type": "execute_result"
    }
   ],
   "source": [
    "#look for all null values\n",
    "nan_values = movies_ratings.isna().sum()\n",
    "\n",
    "#there are 35 rows with null values and we have over 100k. should be fine to drop.\n",
    "len(nan_values)"
   ]
  },
  {
   "cell_type": "code",
   "execution_count": 51,
   "metadata": {},
   "outputs": [
    {
     "data": {
      "text/plain": [
       "title           0\n",
       "genres          0\n",
       "release_year    0\n",
       "userId          0\n",
       "rating          0\n",
       "dtype: int64"
      ]
     },
     "execution_count": 51,
     "metadata": {},
     "output_type": "execute_result"
    }
   ],
   "source": [
    "#going to drop all null and nat values\n",
    "movies_ratings = movies_ratings.dropna()\n",
    "\n",
    "#no more null values, clean dataset\n",
    "movies_ratings.isna().sum()"
   ]
  },
  {
   "cell_type": "code",
   "execution_count": 52,
   "metadata": {},
   "outputs": [],
   "source": [
    "#reset the index so that movieId is its own column\n",
    "movies_ratings.reset_index(inplace=True)"
   ]
  },
  {
   "cell_type": "code",
   "execution_count": 53,
   "metadata": {},
   "outputs": [
    {
     "data": {
      "text/html": [
       "<div>\n",
       "<style scoped>\n",
       "    .dataframe tbody tr th:only-of-type {\n",
       "        vertical-align: middle;\n",
       "    }\n",
       "\n",
       "    .dataframe tbody tr th {\n",
       "        vertical-align: top;\n",
       "    }\n",
       "\n",
       "    .dataframe thead th {\n",
       "        text-align: right;\n",
       "    }\n",
       "</style>\n",
       "<table border=\"1\" class=\"dataframe\">\n",
       "  <thead>\n",
       "    <tr style=\"text-align: right;\">\n",
       "      <th></th>\n",
       "      <th>movieId</th>\n",
       "      <th>title</th>\n",
       "      <th>genres</th>\n",
       "      <th>release_year</th>\n",
       "      <th>userId</th>\n",
       "      <th>rating</th>\n",
       "    </tr>\n",
       "  </thead>\n",
       "  <tbody>\n",
       "    <tr>\n",
       "      <th>0</th>\n",
       "      <td>1</td>\n",
       "      <td>Toy Story (1995)</td>\n",
       "      <td>Adventure|Animation|Children|Comedy|Fantasy</td>\n",
       "      <td>1995-01-01</td>\n",
       "      <td>1.0</td>\n",
       "      <td>4.0</td>\n",
       "    </tr>\n",
       "    <tr>\n",
       "      <th>1</th>\n",
       "      <td>1</td>\n",
       "      <td>Toy Story (1995)</td>\n",
       "      <td>Adventure|Animation|Children|Comedy|Fantasy</td>\n",
       "      <td>1995-01-01</td>\n",
       "      <td>5.0</td>\n",
       "      <td>4.0</td>\n",
       "    </tr>\n",
       "    <tr>\n",
       "      <th>2</th>\n",
       "      <td>1</td>\n",
       "      <td>Toy Story (1995)</td>\n",
       "      <td>Adventure|Animation|Children|Comedy|Fantasy</td>\n",
       "      <td>1995-01-01</td>\n",
       "      <td>7.0</td>\n",
       "      <td>4.5</td>\n",
       "    </tr>\n",
       "    <tr>\n",
       "      <th>3</th>\n",
       "      <td>1</td>\n",
       "      <td>Toy Story (1995)</td>\n",
       "      <td>Adventure|Animation|Children|Comedy|Fantasy</td>\n",
       "      <td>1995-01-01</td>\n",
       "      <td>15.0</td>\n",
       "      <td>2.5</td>\n",
       "    </tr>\n",
       "    <tr>\n",
       "      <th>4</th>\n",
       "      <td>1</td>\n",
       "      <td>Toy Story (1995)</td>\n",
       "      <td>Adventure|Animation|Children|Comedy|Fantasy</td>\n",
       "      <td>1995-01-01</td>\n",
       "      <td>17.0</td>\n",
       "      <td>4.5</td>\n",
       "    </tr>\n",
       "    <tr>\n",
       "      <th>...</th>\n",
       "      <td>...</td>\n",
       "      <td>...</td>\n",
       "      <td>...</td>\n",
       "      <td>...</td>\n",
       "      <td>...</td>\n",
       "      <td>...</td>\n",
       "    </tr>\n",
       "    <tr>\n",
       "      <th>100794</th>\n",
       "      <td>193581</td>\n",
       "      <td>Black Butler: Book of the Atlantic (2017)</td>\n",
       "      <td>Action|Animation|Comedy|Fantasy</td>\n",
       "      <td>2017-01-01</td>\n",
       "      <td>184.0</td>\n",
       "      <td>4.0</td>\n",
       "    </tr>\n",
       "    <tr>\n",
       "      <th>100795</th>\n",
       "      <td>193583</td>\n",
       "      <td>No Game No Life: Zero (2017)</td>\n",
       "      <td>Animation|Comedy|Fantasy</td>\n",
       "      <td>2017-01-01</td>\n",
       "      <td>184.0</td>\n",
       "      <td>3.5</td>\n",
       "    </tr>\n",
       "    <tr>\n",
       "      <th>100796</th>\n",
       "      <td>193585</td>\n",
       "      <td>Flint (2017)</td>\n",
       "      <td>Drama</td>\n",
       "      <td>2017-01-01</td>\n",
       "      <td>184.0</td>\n",
       "      <td>3.5</td>\n",
       "    </tr>\n",
       "    <tr>\n",
       "      <th>100797</th>\n",
       "      <td>193587</td>\n",
       "      <td>Bungo Stray Dogs: Dead Apple (2018)</td>\n",
       "      <td>Action|Animation</td>\n",
       "      <td>2018-01-01</td>\n",
       "      <td>184.0</td>\n",
       "      <td>3.5</td>\n",
       "    </tr>\n",
       "    <tr>\n",
       "      <th>100798</th>\n",
       "      <td>193609</td>\n",
       "      <td>Andrew Dice Clay: Dice Rules (1991)</td>\n",
       "      <td>Comedy</td>\n",
       "      <td>1991-01-01</td>\n",
       "      <td>331.0</td>\n",
       "      <td>4.0</td>\n",
       "    </tr>\n",
       "  </tbody>\n",
       "</table>\n",
       "<p>100799 rows × 6 columns</p>\n",
       "</div>"
      ],
      "text/plain": [
       "        movieId                                      title  \\\n",
       "0             1                           Toy Story (1995)   \n",
       "1             1                           Toy Story (1995)   \n",
       "2             1                           Toy Story (1995)   \n",
       "3             1                           Toy Story (1995)   \n",
       "4             1                           Toy Story (1995)   \n",
       "...         ...                                        ...   \n",
       "100794   193581  Black Butler: Book of the Atlantic (2017)   \n",
       "100795   193583               No Game No Life: Zero (2017)   \n",
       "100796   193585                               Flint (2017)   \n",
       "100797   193587        Bungo Stray Dogs: Dead Apple (2018)   \n",
       "100798   193609        Andrew Dice Clay: Dice Rules (1991)   \n",
       "\n",
       "                                             genres release_year  userId  \\\n",
       "0       Adventure|Animation|Children|Comedy|Fantasy   1995-01-01     1.0   \n",
       "1       Adventure|Animation|Children|Comedy|Fantasy   1995-01-01     5.0   \n",
       "2       Adventure|Animation|Children|Comedy|Fantasy   1995-01-01     7.0   \n",
       "3       Adventure|Animation|Children|Comedy|Fantasy   1995-01-01    15.0   \n",
       "4       Adventure|Animation|Children|Comedy|Fantasy   1995-01-01    17.0   \n",
       "...                                             ...          ...     ...   \n",
       "100794              Action|Animation|Comedy|Fantasy   2017-01-01   184.0   \n",
       "100795                     Animation|Comedy|Fantasy   2017-01-01   184.0   \n",
       "100796                                        Drama   2017-01-01   184.0   \n",
       "100797                             Action|Animation   2018-01-01   184.0   \n",
       "100798                                       Comedy   1991-01-01   331.0   \n",
       "\n",
       "        rating  \n",
       "0          4.0  \n",
       "1          4.0  \n",
       "2          4.5  \n",
       "3          2.5  \n",
       "4          4.5  \n",
       "...        ...  \n",
       "100794     4.0  \n",
       "100795     3.5  \n",
       "100796     3.5  \n",
       "100797     3.5  \n",
       "100798     4.0  \n",
       "\n",
       "[100799 rows x 6 columns]"
      ]
     },
     "execution_count": 53,
     "metadata": {},
     "output_type": "execute_result"
    }
   ],
   "source": [
    "movies_ratings"
   ]
  },
  {
   "cell_type": "code",
   "execution_count": 54,
   "metadata": {},
   "outputs": [],
   "source": [
    "#keeping title and the columns needed for modeling\n",
    "df = movies_ratings[['movieId','userId','rating']]"
   ]
  },
  {
   "cell_type": "code",
   "execution_count": 55,
   "metadata": {},
   "outputs": [
    {
     "data": {
      "text/html": [
       "<div>\n",
       "<style scoped>\n",
       "    .dataframe tbody tr th:only-of-type {\n",
       "        vertical-align: middle;\n",
       "    }\n",
       "\n",
       "    .dataframe tbody tr th {\n",
       "        vertical-align: top;\n",
       "    }\n",
       "\n",
       "    .dataframe thead th {\n",
       "        text-align: right;\n",
       "    }\n",
       "</style>\n",
       "<table border=\"1\" class=\"dataframe\">\n",
       "  <thead>\n",
       "    <tr style=\"text-align: right;\">\n",
       "      <th></th>\n",
       "      <th>movieId</th>\n",
       "      <th>userId</th>\n",
       "      <th>rating</th>\n",
       "    </tr>\n",
       "  </thead>\n",
       "  <tbody>\n",
       "    <tr>\n",
       "      <th>0</th>\n",
       "      <td>1</td>\n",
       "      <td>1.0</td>\n",
       "      <td>4.0</td>\n",
       "    </tr>\n",
       "    <tr>\n",
       "      <th>1</th>\n",
       "      <td>1</td>\n",
       "      <td>5.0</td>\n",
       "      <td>4.0</td>\n",
       "    </tr>\n",
       "    <tr>\n",
       "      <th>2</th>\n",
       "      <td>1</td>\n",
       "      <td>7.0</td>\n",
       "      <td>4.5</td>\n",
       "    </tr>\n",
       "    <tr>\n",
       "      <th>3</th>\n",
       "      <td>1</td>\n",
       "      <td>15.0</td>\n",
       "      <td>2.5</td>\n",
       "    </tr>\n",
       "    <tr>\n",
       "      <th>4</th>\n",
       "      <td>1</td>\n",
       "      <td>17.0</td>\n",
       "      <td>4.5</td>\n",
       "    </tr>\n",
       "    <tr>\n",
       "      <th>...</th>\n",
       "      <td>...</td>\n",
       "      <td>...</td>\n",
       "      <td>...</td>\n",
       "    </tr>\n",
       "    <tr>\n",
       "      <th>100794</th>\n",
       "      <td>193581</td>\n",
       "      <td>184.0</td>\n",
       "      <td>4.0</td>\n",
       "    </tr>\n",
       "    <tr>\n",
       "      <th>100795</th>\n",
       "      <td>193583</td>\n",
       "      <td>184.0</td>\n",
       "      <td>3.5</td>\n",
       "    </tr>\n",
       "    <tr>\n",
       "      <th>100796</th>\n",
       "      <td>193585</td>\n",
       "      <td>184.0</td>\n",
       "      <td>3.5</td>\n",
       "    </tr>\n",
       "    <tr>\n",
       "      <th>100797</th>\n",
       "      <td>193587</td>\n",
       "      <td>184.0</td>\n",
       "      <td>3.5</td>\n",
       "    </tr>\n",
       "    <tr>\n",
       "      <th>100798</th>\n",
       "      <td>193609</td>\n",
       "      <td>331.0</td>\n",
       "      <td>4.0</td>\n",
       "    </tr>\n",
       "  </tbody>\n",
       "</table>\n",
       "<p>100799 rows × 3 columns</p>\n",
       "</div>"
      ],
      "text/plain": [
       "        movieId  userId  rating\n",
       "0             1     1.0     4.0\n",
       "1             1     5.0     4.0\n",
       "2             1     7.0     4.5\n",
       "3             1    15.0     2.5\n",
       "4             1    17.0     4.5\n",
       "...         ...     ...     ...\n",
       "100794   193581   184.0     4.0\n",
       "100795   193583   184.0     3.5\n",
       "100796   193585   184.0     3.5\n",
       "100797   193587   184.0     3.5\n",
       "100798   193609   331.0     4.0\n",
       "\n",
       "[100799 rows x 3 columns]"
      ]
     },
     "execution_count": 55,
     "metadata": {},
     "output_type": "execute_result"
    }
   ],
   "source": [
    "df"
   ]
  },
  {
   "cell_type": "markdown",
   "metadata": {},
   "source": [
    "# Modeling "
   ]
  },
  {
   "cell_type": "code",
   "execution_count": 66,
   "metadata": {},
   "outputs": [],
   "source": [
    "#load the data set into reader to use surprise \n",
    "reader = Reader(rating_scale=(0, 5))\n",
    "data = Dataset.load_from_df(df,reader)"
   ]
  },
  {
   "cell_type": "code",
   "execution_count": 67,
   "metadata": {},
   "outputs": [],
   "source": [
    "# Split into train and test set\n",
    "trainset, testset = train_test_split(data, test_size=0.2)"
   ]
  },
  {
   "cell_type": "code",
   "execution_count": 68,
   "metadata": {},
   "outputs": [
    {
     "name": "stdout",
     "output_type": "stream",
     "text": [
      "Number of users:  9707 \n",
      "\n",
      "Number of items:  610\n"
     ]
    }
   ],
   "source": [
    "dataset = data.build_full_trainset()\n",
    "print('Number of users: ', dataset.n_users, '\\n')\n",
    "print('Number of items: ', dataset.n_items)"
   ]
  },
  {
   "cell_type": "markdown",
   "metadata": {},
   "source": [
    "# SVD"
   ]
  },
  {
   "cell_type": "code",
   "execution_count": 63,
   "metadata": {},
   "outputs": [
    {
     "name": "stdout",
     "output_type": "stream",
     "text": [
      "{'rmse': 0.8741334526632496, 'mae': 0.672927233493499}\n",
      "{'rmse': {'n_factors': 100, 'reg_all': 0.05}, 'mae': {'n_factors': 100, 'reg_all': 0.05}}\n"
     ]
    }
   ],
   "source": [
    "#Perform a gridsearch with SVD to get the best parameters\n",
    "\n",
    "params = {'n_factors': [20, 50, 100],\n",
    "         'reg_all': [0.02, 0.05, 0.1]}\n",
    "g_s_svd = GridSearchCV(SVD,param_grid=params,n_jobs=-1)\n",
    "g_s_svd.fit(data)\n",
    "\n",
    "print(g_s_svd.best_score)\n",
    "print(g_s_svd.best_params)"
   ]
  },
  {
   "cell_type": "code",
   "execution_count": 71,
   "metadata": {
    "scrolled": true
   },
   "outputs": [
    {
     "name": "stdout",
     "output_type": "stream",
     "text": [
      "RMSE: 0.8794\n",
      "0.8794009021009845\n"
     ]
    }
   ],
   "source": [
    "#use the parameters from gridsearch to create a svd model\n",
    "\n",
    "svd_model = SVD(n_factors=100, reg_all=0.5)\n",
    "svd_model.fit(trainset)\n",
    "predictions = svd_model.test(testset)\n",
    "print(accuracy.rmse(predictions))"
   ]
  },
  {
   "cell_type": "code",
   "execution_count": 72,
   "metadata": {},
   "outputs": [],
   "source": [
    "#save the model\n",
    "with open('SVD.pickle', 'wb') as f:\n",
    "    pickle.dump(svd_model, f)"
   ]
  },
  {
   "cell_type": "markdown",
   "metadata": {},
   "source": [
    "# KNN Basic"
   ]
  },
  {
   "cell_type": "code",
   "execution_count": 53,
   "metadata": {},
   "outputs": [
    {
     "name": "stdout",
     "output_type": "stream",
     "text": [
      "('test_rmse', array([0.96748845, 0.96677912, 0.97059467, 0.97441798, 0.96907071]))\n",
      "('test_mae', array([0.75349872, 0.74884604, 0.75410466, 0.75732908, 0.75286555]))\n",
      "('fit_time', (29.37694501876831, 37.65001606941223, 34.216678857803345, 36.177207946777344, 8.034549951553345))\n",
      "('test_time', (32.77606511116028, 26.911401987075806, 29.378684997558594, 27.76911425590515, 5.872281074523926))\n",
      "-----------------------\n",
      "0.9696701829740052\n"
     ]
    }
   ],
   "source": [
    "# cross validating with KNNBasic\n",
    "knn_basic = KNNBasic(sim_options={'name':'pearson', 'user_based':True})\n",
    "cv_knn_basic = cross_validate(knn_basic, data, n_jobs=-1)\n",
    "\n",
    "for i in cv_knn_basic.items():\n",
    "    print(i)\n",
    "print('-----------------------')\n",
    "print(np.mean(cv_knn_basic['test_rmse']))"
   ]
  },
  {
   "cell_type": "code",
   "execution_count": 78,
   "metadata": {},
   "outputs": [
    {
     "name": "stdout",
     "output_type": "stream",
     "text": [
      "Computing the pearson similarity matrix...\n",
      "Done computing similarity matrix.\n"
     ]
    },
    {
     "data": {
      "text/plain": [
       "<surprise.prediction_algorithms.knns.KNNBasic at 0x123cf65d0>"
      ]
     },
     "execution_count": 78,
     "metadata": {},
     "output_type": "execute_result"
    }
   ],
   "source": [
    "#basic knn no cross validation\n",
    "knn_basic = knns.KNNBasic(sim_options={'name':'pearson', 'user_based':True})\n",
    "knn_basic.fit(trainset)\n",
    "predictions = knn_basic.test(testset)\n",
    "print(accuracy.rmse(predictions))"
   ]
  },
  {
   "cell_type": "markdown",
   "metadata": {},
   "source": [
    "# KNN Baseline"
   ]
  },
  {
   "cell_type": "code",
   "execution_count": 84,
   "metadata": {},
   "outputs": [
    {
     "name": "stdout",
     "output_type": "stream",
     "text": [
      "Estimating biases using als...\n",
      "Computing the pearson similarity matrix...\n",
      "Done computing similarity matrix.\n",
      "Estimating biases using als...\n",
      "Computing the pearson similarity matrix...\n",
      "Done computing similarity matrix.\n",
      "Estimating biases using als...\n",
      "Computing the pearson similarity matrix...\n",
      "Done computing similarity matrix.\n",
      "Estimating biases using als...\n",
      "Computing the pearson similarity matrix...\n",
      "Done computing similarity matrix.\n",
      "Estimating biases using als...\n",
      "Computing the pearson similarity matrix...\n",
      "Done computing similarity matrix.\n",
      "('test_rmse', array([0.87738938, 0.88496284, 0.88885517, 0.88396664, 0.88789498]))\n",
      "('test_mae', array([0.67348252, 0.68240873, 0.68403914, 0.68028217, 0.68203458]))\n",
      "('fit_time', (6.654615879058838, 6.931823015213013, 6.81413197517395, 7.644606113433838, 6.826820135116577))\n",
      "('test_time', (6.999417304992676, 7.0642759799957275, 7.759622097015381, 8.05874490737915, 6.955322027206421))\n"
     ]
    },
    {
     "data": {
      "text/plain": [
       "0.8846138026181389"
      ]
     },
     "execution_count": 84,
     "metadata": {},
     "output_type": "execute_result"
    }
   ],
   "source": [
    "# cross validating with KNNBaseline\n",
    "knn_baseline = KNNBaseline(sim_options={'name':'pearson', 'user_based':True})\n",
    "cv_knn_baseline = cross_validate(knn_baseline,data)\n",
    "\n",
    "for i in cv_knn_baseline.items():\n",
    "    print(i)\n",
    "print('-----------------------')\n",
    "np.mean(cv_knn_baseline['test_rmse'])"
   ]
  },
  {
   "cell_type": "markdown",
   "metadata": {},
   "source": [
    "# KNN Means "
   ]
  },
  {
   "cell_type": "code",
   "execution_count": 81,
   "metadata": {},
   "outputs": [
    {
     "name": "stdout",
     "output_type": "stream",
     "text": [
      "Computing the pearson similarity matrix...\n",
      "Done computing similarity matrix.\n",
      "RMSE: 0.8888\n",
      "0.8887772478793372\n"
     ]
    }
   ],
   "source": [
    "sim_pearson = {'name':'pearson', 'user_based':False}\n",
    "knn_means = knns.KNNWithMeans(sim_options=sim_pearson)\n",
    "knn_means.fit(trainset)\n",
    "predictions = knn_means.test(testset)\n",
    "print(accuracy.rmse(predictions))"
   ]
  },
  {
   "cell_type": "markdown",
   "metadata": {},
   "source": [
    "# Recomendations"
   ]
  },
  {
   "cell_type": "code",
   "execution_count": 82,
   "metadata": {},
   "outputs": [],
   "source": [
    "def movie_rater(movie_df,num, genre=None):\n",
    "    userID = 1000\n",
    "    rating_list = []\n",
    "    while num > 0:\n",
    "        if genre:\n",
    "            movie = movie_df[movie_df['genres'].str.contains(genre)].sample(1)\n",
    "        else:\n",
    "            movie = movie_df.sample(1)\n",
    "        print(movie)\n",
    "        rating = input('How do you rate this movie on a scale of 1-5, press n if you have not seen :\\n')\n",
    "        if rating == 'n':\n",
    "            continue\n",
    "        else:\n",
    "            rating_one_movie = {'userId':userID,'movieId':movie['movieId'].values[0],'rating':rating}\n",
    "            rating_list.append(rating_one_movie) \n",
    "            num -= 1\n",
    "    return rating_list  "
   ]
  },
  {
   "cell_type": "code",
   "execution_count": 84,
   "metadata": {},
   "outputs": [
    {
     "name": "stdout",
     "output_type": "stream",
     "text": [
      "      movieId                title                genres release_year  userId  \\\n",
      "4971      168  First Knight (1995)  Action|Drama|Romance   1995-01-01   240.0   \n",
      "\n",
      "      rating  \n",
      "4971     5.0  \n",
      "How do you rate this movie on a scale of 1-5, press n if you have not seen :\n",
      "n\n",
      "       movieId                            title                        genres  \\\n",
      "38547     2023  Godfather: Part III, The (1990)  Crime|Drama|Mystery|Thriller   \n",
      "\n",
      "      release_year  userId  rating  \n",
      "38547   1990-01-01   391.0     3.0  \n",
      "How do you rate this movie on a scale of 1-5, press n if you have not seen :\n",
      "n\n",
      "       movieId                             title                     genres  \\\n",
      "79435    32460  Knockin' on Heaven's Door (1997)  Action|Comedy|Crime|Drama   \n",
      "\n",
      "      release_year  userId  rating  \n",
      "79435   1997-01-01    18.0     3.5  \n",
      "How do you rate this movie on a scale of 1-5, press n if you have not seen :\n",
      "n\n",
      "       movieId                                              title genres  \\\n",
      "44516     2512  Ballad of Narayama, The (Narayama bushiko) (1983)  Drama   \n",
      "\n",
      "      release_year  userId  rating  \n",
      "44516   1983-01-01   603.0     5.0  \n",
      "How do you rate this movie on a scale of 1-5, press n if you have not seen :\n",
      "n\n",
      "       movieId                title         genres release_year  userId  \\\n",
      "21023      923  Citizen Kane (1941)  Drama|Mystery   1941-01-01   166.0   \n",
      "\n",
      "       rating  \n",
      "21023     4.5  \n",
      "How do you rate this movie on a scale of 1-5, press n if you have not seen :\n",
      "n\n",
      "       movieId                    title                 genres release_year  \\\n",
      "54252     3435  Double Indemnity (1944)  Crime|Drama|Film-Noir   1944-01-01   \n",
      "\n",
      "       userId  rating  \n",
      "54252    17.0     3.5  \n",
      "How do you rate this movie on a scale of 1-5, press n if you have not seen :\n",
      "n\n",
      "       movieId              title                       genres release_year  \\\n",
      "49838     2959  Fight Club (1999)  Action|Crime|Drama|Thriller   1999-01-01   \n",
      "\n",
      "       userId  rating  \n",
      "49838    15.0     2.5  \n",
      "How do you rate this movie on a scale of 1-5, press n if you have not seen :\n",
      "3\n",
      "       movieId                      title       genres release_year  userId  \\\n",
      "42220     2329  American History X (1998)  Crime|Drama   1998-01-01   449.0   \n",
      "\n",
      "       rating  \n",
      "42220     4.5  \n",
      "How do you rate this movie on a scale of 1-5, press n if you have not seen :\n",
      "n\n",
      "       movieId                       title genres release_year  userId  rating\n",
      "58456     3949  Requiem for a Dream (2000)  Drama   2000-01-01   391.0     5.0\n",
      "How do you rate this movie on a scale of 1-5, press n if you have not seen :\n",
      "n\n",
      "       movieId                 title                genres release_year  \\\n",
      "41961     2321  Pleasantville (1998)  Comedy|Drama|Fantasy   1998-01-01   \n",
      "\n",
      "       userId  rating  \n",
      "41961   239.0     4.5  \n",
      "How do you rate this movie on a scale of 1-5, press n if you have not seen :\n",
      "n\n",
      "      movieId            title                        genres release_year  \\\n",
      "7701      292  Outbreak (1995)  Action|Drama|Sci-Fi|Thriller   1995-01-01   \n",
      "\n",
      "      userId  rating  \n",
      "7701   470.0     5.0  \n",
      "How do you rate this movie on a scale of 1-5, press n if you have not seen :\n",
      "4\n",
      "      movieId                               title        genres release_year  \\\n",
      "7297      272  Madness of King George, The (1994)  Comedy|Drama   1994-01-01   \n",
      "\n",
      "      userId  rating  \n",
      "7297    23.0     4.0  \n",
      "How do you rate this movie on a scale of 1-5, press n if you have not seen :\n",
      "2\n",
      "       movieId              title                       genres release_year  \\\n",
      "49951     2959  Fight Club (1999)  Action|Crime|Drama|Thriller   1999-01-01   \n",
      "\n",
      "       userId  rating  \n",
      "49951   346.0     3.5  \n",
      "How do you rate this movie on a scale of 1-5, press n if you have not seen :\n",
      "3\n"
     ]
    }
   ],
   "source": [
    "user_rating = movie_rater(movies_ratings, 4, 'Drama')"
   ]
  },
  {
   "cell_type": "markdown",
   "metadata": {},
   "source": [
    "# Make Predictions "
   ]
  },
  {
   "cell_type": "code",
   "execution_count": 85,
   "metadata": {},
   "outputs": [],
   "source": [
    "#going to use the ratings from the user given above to make recomendations "
   ]
  },
  {
   "cell_type": "code",
   "execution_count": 86,
   "metadata": {},
   "outputs": [],
   "source": [
    "#KNN Model, since it gave the highest RMSE score"
   ]
  },
  {
   "cell_type": "code",
   "execution_count": 88,
   "metadata": {},
   "outputs": [
    {
     "name": "stdout",
     "output_type": "stream",
     "text": [
      "RMSE: 0.8794\n",
      "0.879383261681277\n"
     ]
    }
   ],
   "source": [
    "svd_model = SVD(n_factors=100, reg_all=0.5)\n",
    "svd_model.fit(trainset)\n",
    "predictions = svd_model.test(testset)\n",
    "print(accuracy.rmse(predictions))"
   ]
  },
  {
   "cell_type": "code",
   "execution_count": 90,
   "metadata": {},
   "outputs": [],
   "source": [
    "# make predictions for the user\n",
    "list_of_movies = []\n",
    "for m_id in df['movieId'].unique():\n",
    "    list_of_movies.append((m_id,svd_model.predict(1000,m_id)[3]))"
   ]
  },
  {
   "cell_type": "code",
   "execution_count": 91,
   "metadata": {},
   "outputs": [],
   "source": [
    "# order the predictions from highest to lowest rated\n",
    "ranked_movies = sorted(list_of_movies, key=lambda x:x[1], reverse=True)\n",
    "\n",
    "#make the values unique\n",
    "ranked_movies = set(ranked_movies)\n"
   ]
  },
  {
   "cell_type": "code",
   "execution_count": 92,
   "metadata": {
    "scrolled": false
   },
   "outputs": [
    {
     "name": "stdout",
     "output_type": "stream",
     "text": [
      "Recommendation #  1 :  ['My First Mister (2001)'] \n",
      "\n",
      "Recommendation #  2 :  ['Bo Burnham: Make Happy (2016)'] \n",
      "\n",
      "Recommendation #  3 :  ['Frosty the Snowman (1969)'] \n",
      "\n",
      "Recommendation #  4 :  [\"'night Mother (1986)\"] \n",
      "\n",
      "Recommendation #  5 :  ['Malcolm X (1992)'] \n",
      "\n"
     ]
    }
   ],
   "source": [
    "# return the top n recommendations using the \n",
    "def recommended_movies(user_ratings,movie_title_df,n):\n",
    "        for idx, rec in enumerate(user_ratings):\n",
    "            title = movie_title_df.loc[movie_title_df['movieId'] == int(rec[0])]['title']\n",
    "            title = title.unique()\n",
    "            print('Recommendation # ', idx+1, ': ', title, '\\n')\n",
    "            n-= 1\n",
    "            if n == 0:\n",
    "                break\n",
    "            \n",
    "recommended_movies(ranked_movies,movies_ratings,5)"
   ]
  },
  {
   "cell_type": "code",
   "execution_count": null,
   "metadata": {},
   "outputs": [],
   "source": []
  }
 ],
 "metadata": {
  "kernelspec": {
   "display_name": "Python 3 (ipykernel)",
   "language": "python",
   "name": "python3"
  },
  "language_info": {
   "codemirror_mode": {
    "name": "ipython",
    "version": 3
   },
   "file_extension": ".py",
   "mimetype": "text/x-python",
   "name": "python",
   "nbconvert_exporter": "python",
   "pygments_lexer": "ipython3",
   "version": "3.11.0"
  },
  "vscode": {
   "interpreter": {
    "hash": "40d3a090f54c6569ab1632332b64b2c03c39dcf918b08424e98f38b5ae0af88f"
   }
  }
 },
 "nbformat": 4,
 "nbformat_minor": 4
}
